{
 "cells": [
  {
   "cell_type": "code",
   "execution_count": 1,
   "metadata": {},
   "outputs": [],
   "source": [
    "import cv2"
   ]
  },
  {
   "cell_type": "code",
   "execution_count": 2,
   "metadata": {},
   "outputs": [],
   "source": [
    "cap=cv2.VideoCapture(0)\n",
    "faceCascade=cv2.CascadeClassifier(\"Downloads/haarcascade_frontalface_alt.xml\")\n",
    "while True:\n",
    "    ret,frame=cap.read()\n",
    "    if ret==False:\n",
    "        continue\n",
    "    \n",
    "    faces=faceCascade.detectMultiScale(frame,1.3,5)    #(frame,scalingFactor,NoofNeighbours)\n",
    "    \n",
    "    for (x,y,w,h) in faces:                            # w and H are width and height of rectangle\n",
    "        cv2.rectangle(frame,(x,y),(x+w,y+h),(255,0,0),2)\n",
    "        \n",
    "    cv2.imshow(\"Video Frame\",frame)\n",
    "    \n",
    "    keyPressed=cv2.waitKey(1)&0xFF\n",
    "    if keyPressed==ord('q'):\n",
    "        break\n",
    "cap.release()\n",
    "cv2.destroyAllWindows()"
   ]
  },
  {
   "cell_type": "code",
   "execution_count": null,
   "metadata": {},
   "outputs": [],
   "source": []
  }
 ],
 "metadata": {
  "kernelspec": {
   "display_name": "Python 3",
   "language": "python",
   "name": "python3"
  },
  "language_info": {
   "codemirror_mode": {
    "name": "ipython",
    "version": 3
   },
   "file_extension": ".py",
   "mimetype": "text/x-python",
   "name": "python",
   "nbconvert_exporter": "python",
   "pygments_lexer": "ipython3",
   "version": "3.7.4"
  }
 },
 "nbformat": 4,
 "nbformat_minor": 2
}
